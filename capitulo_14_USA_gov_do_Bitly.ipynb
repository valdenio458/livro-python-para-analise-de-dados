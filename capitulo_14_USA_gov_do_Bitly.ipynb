{
  "nbformat": 4,
  "nbformat_minor": 0,
  "metadata": {
    "colab": {
      "provenance": [],
      "authorship_tag": "ABX9TyO31QL4t5w7PSLslacUO5RB",
      "include_colab_link": true
    },
    "kernelspec": {
      "name": "python3",
      "display_name": "Python 3"
    },
    "language_info": {
      "name": "python"
    }
  },
  "cells": [
    {
      "cell_type": "markdown",
      "metadata": {
        "id": "view-in-github",
        "colab_type": "text"
      },
      "source": [
        "<a href=\"https://colab.research.google.com/github/valdenio458/livro-python-para-analise-de-dados/blob/main/capitulo_14_USA_gov_do_Bitly.ipynb\" target=\"_parent\"><img src=\"https://colab.research.google.com/assets/colab-badge.svg\" alt=\"Open In Colab\"/></a>"
      ]
    },
    {
      "cell_type": "markdown",
      "source": [],
      "metadata": {
        "id": "f8dPjEFu81gd"
      }
    },
    {
      "cell_type": "markdown",
      "source": [
        "## 14.1 Dados de 1.USA.gov do Bitly"
      ],
      "metadata": {
        "id": "WUQNlXAt84NB"
      }
    }
  ]
}